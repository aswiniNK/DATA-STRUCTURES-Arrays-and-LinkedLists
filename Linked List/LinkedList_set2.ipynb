{
 "cells": [
  {
   "cell_type": "markdown",
   "metadata": {},
   "source": [
    "# Linked List Practice SET 2"
   ]
  },
  {
   "cell_type": "markdown",
   "metadata": {},
   "source": [
    "### Program to remove deuplicates nodes from a sorted linked list"
   ]
  },
  {
   "cell_type": "code",
   "execution_count": 1,
   "metadata": {},
   "outputs": [],
   "source": [
    "class Node:\n",
    "    ## Constructor to initialize the node object\n",
    "    def __init__(self, data):\n",
    "        self.data = data\n",
    "        self.next = None\n",
    "        \n",
    "        \n",
    "class LinkedList1 :\n",
    "    \n",
    "    ## Function to initialize head\n",
    "    def __init__(self):\n",
    "        self.head = None\n",
    "        \n",
    "    ## Function to insert a node at beginning \n",
    "    def push(self, new_data):\n",
    "        new_node = Node(new_data)\n",
    "        new_node.next = self.head\n",
    "        self.head = new_node\n",
    "        \n",
    "        \n",
    "    ## Given the reference to the head of the list and key, \n",
    "    ## Delete the first occurence of the key in Linked List\n",
    "    \n",
    "    def deleteNode(self, key):\n",
    "        \n",
    "        #store head node\n",
    "        temp = self.head\n",
    "        \n",
    "        ## If the head node itself holds the key to be deleted \n",
    "        if(temp is not None):\n",
    "            if(temp.data == key):\n",
    "                self.head = temp.next\n",
    "                temp = None\n",
    "                return\n",
    "            \n",
    "        ## search for the key to be deleted\n",
    "        ## Keep track of the previous node\\\n",
    "        ## we need to change prev.next\n",
    "        while(temp is not None):\n",
    "            if temp.data == key:\n",
    "                break\n",
    "            prev = temp\n",
    "            temp = temp.next\n",
    "            \n",
    "            \n",
    "        ## If key was not present in Linked list\n",
    "        if (temp == None):\n",
    "            return\n",
    "        \n",
    "        ## Unlink the node from linked list\n",
    "        prev.next = temp.next\n",
    "        \n",
    "        temp = None\n",
    "        \n",
    "    ##Utility Function to print the linked list\n",
    "    def printList(self):\n",
    "        temp = self.head\n",
    "        while(temp):\n",
    "            print(temp.data , end = \" \")\n",
    "            temp = temp.next\n",
    "            \n",
    "    ## Function that removes duplicates from a sorted list\n",
    "    \n",
    "    def removeduplicates(self):\n",
    "        temp = self.head\n",
    "        if temp is None:\n",
    "            return\n",
    "        while temp.next is not None:\n",
    "            if temp.data == temp.next.data:\n",
    "                new = temp.next.next\n",
    "                temp.next = None\n",
    "                temp.next = new\n",
    "            \n",
    "            else:\n",
    "                temp = temp.next\n",
    "        return self.head\n",
    "            \n",
    "            \n",
    "    \n",
    "        \n",
    "    "
   ]
  },
  {
   "cell_type": "code",
   "execution_count": 4,
   "metadata": {},
   "outputs": [
    {
     "name": "stdout",
     "output_type": "stream",
     "text": [
      "Created Linked list \n",
      "14 11 11 11 11 13 13 20 \n",
      "After Removing duplicates\n",
      "14 11 13 20 "
     ]
    }
   ],
   "source": [
    "### Driver code\n",
    "\n",
    "llist = LinkedList1()\n",
    "\n",
    "llist.push(20)\n",
    "llist.push(13)\n",
    "llist.push(13)\n",
    "llist.push(11)\n",
    "llist.push(11)\n",
    "llist.push(11)\n",
    "llist.push(11)\n",
    "llist.push(14)\n",
    "\n",
    "print(\"Created Linked list \")\n",
    "llist.printList()\n",
    "print()\n",
    "print(\"After Removing duplicates\")\n",
    "llist.removeduplicates()\n",
    "llist.printList()\n"
   ]
  },
  {
   "cell_type": "code",
   "execution_count": null,
   "metadata": {},
   "outputs": [],
   "source": []
  }
 ],
 "metadata": {
  "kernelspec": {
   "display_name": "Python 3",
   "language": "python",
   "name": "python3"
  },
  "language_info": {
   "codemirror_mode": {
    "name": "ipython",
    "version": 3
   },
   "file_extension": ".py",
   "mimetype": "text/x-python",
   "name": "python",
   "nbconvert_exporter": "python",
   "pygments_lexer": "ipython3",
   "version": "3.6.5"
  }
 },
 "nbformat": 4,
 "nbformat_minor": 2
}
